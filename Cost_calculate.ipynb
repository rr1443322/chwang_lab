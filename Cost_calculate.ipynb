{
 "cells": [
  {
   "cell_type": "code",
   "execution_count": 37,
   "id": "c1760ed6",
   "metadata": {},
   "outputs": [
    {
     "name": "stdout",
     "output_type": "stream",
     "text": [
      "C:\\Users\\HP\\Anaconda3\\envs\\23GC\\python.exe\n",
      "3.6.13 |Anaconda, Inc.| (default, Mar 16 2021, 11:37:27) [MSC v.1916 64 bit (AMD64)]\n",
      "sys.version_info(major=3, minor=6, micro=13, releaselevel='final', serial=0)\n"
     ]
    }
   ],
   "source": [
    "# %run class_obj.ipynb\n",
    "# %run system_initial.ipynb\n",
    "# %run SINR_model.ipynb\n",
    "# %run Input_setting.ipynb"
   ]
  },
  {
   "cell_type": "code",
   "execution_count": 54,
   "id": "fb6315b4",
   "metadata": {},
   "outputs": [],
   "source": [
    "# MECs, tasks, network_graph = Input_Setting(config)"
   ]
  },
  {
   "cell_type": "code",
   "execution_count": 3,
   "id": "df980e8a",
   "metadata": {},
   "outputs": [
    {
     "data": {
      "image/png": "[encoded data removed]",
      "text/plain": [
       "<Figure size 432x288 with 1 Axes>"
      ]
     },
     "metadata": {},
     "output_type": "display_data"
    }
   ],
   "source": [
    "# draw_network_graph(network_graph)"
   ]
  },
  {
   "cell_type": "code",
   "execution_count": 4,
   "id": "c4af831b",
   "metadata": {},
   "outputs": [],
   "source": [
    "# for m in range(len(MECs)):\n",
    "#     print(MECs[m].stored_features)"
   ]
  },
  {
   "cell_type": "code",
   "execution_count": 5,
   "id": "a7f7b8d0",
   "metadata": {},
   "outputs": [],
   "source": [
    "def get_minimum_forwarding_cost(network_graph , MEC_server, MEC_stored_set):\n",
    "    min_forwarding_cost = 5000\n",
    "    for m in MEC_stored_set:\n",
    "        cost = forwarding_cost(network_graph, MEC_server, m )\n",
    "        if cost < min_forwarding_cost:\n",
    "            min_forwarding_cost = cost\n",
    "    return min_forwarding_cost"
   ]
  },
  {
   "cell_type": "code",
   "execution_count": 6,
   "id": "71fed57e",
   "metadata": {},
   "outputs": [],
   "source": [
    "def forward_cost_calculate(set_of_selected_features, MECs, MEC_server, network_graph):\n",
    "    '''\n",
    "    Args:\n",
    "    set_of_selected_features: set of selected features for tasks within MEC_server\n",
    "    MECs: set of MEC server\n",
    "    MEC_server: current MEC server\n",
    "    '''\n",
    "    not_in_mec = [i for i in set_of_selected_features if i not in list(MECs[MEC_server].stored_features)]\n",
    "    total_forward_cost = 0\n",
    "    for i in not_in_mec:  \n",
    "        forward_feature_set = [] \n",
    "        for m in range(len(MECs)):\n",
    "            if i in MECs[m].stored_features:\n",
    "                forward_feature_set.append(m)\n",
    "        cost = get_minimum_forwarding_cost(network_graph , MEC_server, forward_feature_set)\n",
    "\n",
    "        total_forward_cost += cost\n",
    "    return total_forward_cost"
   ]
  },
  {
   "cell_type": "code",
   "execution_count": 7,
   "id": "4857261f",
   "metadata": {},
   "outputs": [],
   "source": [
    "def cost_calculate_MEC(set_of_selected_features, MECs, MEC_server, network_graph, config):\n",
    "    comp_unit = config['comp_unit']\n",
    "    comm_unit = config['comm_unit']\n",
    "\n",
    "    comp_cost = comp_unit *  len(set_of_selected_features)\n",
    "    comm_cost = comm_unit *  len(set_of_selected_features)\n",
    "    forward_cost = forward_cost_calculate(set_of_selected_features, MECs, MEC_server, network_graph)\n",
    "    total_cost_MEC = comp_cost + comm_cost + forward_cost\n",
    "    return total_cost_MEC, comp_cost, comm_cost+ forward_cost"
   ]
  },
  {
   "cell_type": "code",
   "execution_count": 11,
   "id": "e2a1b62c",
   "metadata": {},
   "outputs": [],
   "source": [
    "def check_co_feature(tasks, t):\n",
    "    '''\n",
    "    t: current task\n",
    "    '''\n",
    "    for feature in tasks[t].co_feature:\n",
    "        if feature in tasks[t].selected_features:\n",
    "            tasks[t].selected_features.extend(tasks[t].co_feature)\n",
    "            tasks[t].selected_features = list(set(tasks[t].selected_features))\n",
    "            break\n",
    "    return tasks[t].selected_features"
   ]
  },
  {
   "cell_type": "code",
   "execution_count": null,
   "id": "4e51711d",
   "metadata": {},
   "outputs": [],
   "source": [
    "def calculate_shared_feature(tasks, config):\n",
    "    '''\n",
    "    To calculte that \"each feature is shared with how much user?\"\n",
    "    '''\n",
    "    total_counts = 0\n",
    "    num_features = config['num_features']\n",
    "    counts = {num: 0 for num in range(num_features)}\n",
    "    for t in range(len(tasks)):\n",
    "        for num in tasks[t].selected_features:\n",
    "            counts[num] += 1\n",
    "\n",
    "    total_counts = sum(counts.values())\n",
    "    return total_counts  / num_features"
   ]
  }
 ],
 "metadata": {
  "kernelspec": {
   "display_name": "Python 3",
   "language": "python",
   "name": "python3"
  },
  "language_info": {
   "codemirror_mode": {
    "name": "ipython",
    "version": 3
   },
   "file_extension": ".py",
   "mimetype": "text/x-python",
   "name": "python",
   "nbconvert_exporter": "python",
   "pygments_lexer": "ipython3",
   "version": "3.6.13"
  }
 },
 "nbformat": 4,
 "nbformat_minor": 5
}
