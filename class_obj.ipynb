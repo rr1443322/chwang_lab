{
 "cells": [
  {
   "cell_type": "code",
   "execution_count": 14,
   "id": "d560a630",
   "metadata": {},
   "outputs": [],
   "source": [
    "class MEC_server:\n",
    "    def __init__(self, m, cellRadius, center_x, center_y, num):\n",
    "        self.m = m  # 使用 m 作為屬性名稱，與 add_mec_servers 一致\n",
    "        self.cellRadius = cellRadius\n",
    "        self.center_x = center_x\n",
    "        self.center_y = center_y\n",
    "        self.num = num\n",
    "        self.covered_iots = set()\n",
    "\n",
    "    def __str__(self):\n",
    "        return (f\"MEC_server(m={self.m}, cellRadius={self.cellRadius}, \"\n",
    "                f\"center=({self.center_x}, {self.center_y}), num={self.num})\")"
   ]
  },
  {
   "cell_type": "code",
   "execution_count": 15,
   "id": "497112b8",
   "metadata": {},
   "outputs": [],
   "source": [
    "class Task:\n",
    "    def __init__(self, id, data_rate, x, y):\n",
    "        self.id = id\n",
    "        self.data_rate = data_rate\n",
    "        self.x = x\n",
    "        self.y = y\n",
    "\n",
    "    def __str__(self):\n",
    "        return f\"Task_{self.id} at ({self.x}, {self.y}) with data_rate={self.data_rate}\""
   ]
  },
  {
   "cell_type": "code",
   "execution_count": 16,
   "id": "4ff3e1d3",
   "metadata": {},
   "outputs": [],
   "source": [
    "class IoT:  # 新增的 IoT 類別\n",
    "    def __init__(self, id: int, data_rate: int, x: float, y: float):\n",
    "        self.id = id\n",
    "        self.data_rate = data_rate\n",
    "        self.x = x\n",
    "        self.y = y\n",
    "        self.stored_data = set()\n",
    "\n",
    "    def __str__(self):\n",
    "        return f\"IoT(id={self.id}, data_rate={self.data_rate}, pos=({self.x}, {self.y}), stored_data={self.stored_data})\""
   ]
  },
  {
   "cell_type": "code",
   "execution_count": null,
   "id": "34ec010b",
   "metadata": {},
   "outputs": [],
   "source": []
  }
 ],
 "metadata": {
  "kernelspec": {
   "display_name": "Python 3 (ipykernel)",
   "language": "python",
   "name": "python3"
  },
  "language_info": {
   "codemirror_mode": {
    "name": "ipython",
    "version": 3
   },
   "file_extension": ".py",
   "mimetype": "text/x-python",
   "name": "python",
   "nbconvert_exporter": "python",
   "pygments_lexer": "ipython3",
   "version": "3.9.13"
  }
 },
 "nbformat": 4,
 "nbformat_minor": 5
}
