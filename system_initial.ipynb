{
 "cells": [
  {
   "cell_type": "code",
   "execution_count": 4,
   "metadata": {},
   "outputs": [
    {
     "data": {
      "text/plain": [
       "'\\nQPSK_1 = 0.019809563054687576\\nQPSK_2 = 0.0304762508533655\\nQPSK_3 = 0.04901597012249618\\nQPSK_4 = 0.07822237719030478\\nQPSK_5 = 0.11403197194300924\\nQPSK_6 = 0.15288919178105023\\nQAM16_7 = 0.19200038037620265\\nQAM16_8 = 0.24888938196915159\\nQAM16_9 = 0.3128895087612191\\nQAM16_10 = 0.3550483224417081\\nQAM16_11 = 0.432000855846456\\nQAM16_12 = 0.5074295767085355\\nQAM16_13 = 0.5881916414699542\\nQAM16_14 = 0.6674298936887044\\nQAM16_15 = 0.7222871452247623\\n'"
      ]
     },
     "execution_count": 4,
     "metadata": {},
     "output_type": "execute_result"
    }
   ],
   "source": [
    "#variable\n",
    "'''\n",
    "args:\n",
    "    num_tasks: number of users\n",
    "    num_features: number of features \n",
    "    feature_graph_threshold: for create edge on feature graph\n",
    "    num_co_feature: number of features in co-occurring\n",
    "    num_MECs: number of MEC servers\n",
    "    set_size: number of features on a MEC server\n",
    "    comp_unit: computation unit cost for each feature \n",
    "    comm_unit: communication unit cost for each feature\n",
    "'''\n",
    "# config = {\n",
    "#     'num_tasks': 100, \n",
    "#     'num_features': 100,\n",
    "#     'feature_graph_threshold':0.8,\n",
    "#     'num_co_feature': 4,\n",
    "#     'num_MECs': 20,\n",
    "#     'set_size': 10,\n",
    "#     'comp_unit':1,\n",
    "#     'comm_unit':1,\n",
    "#     'number_of_seleted_features_PCA':50\n",
    "# }\n",
    "\n",
    "config = {\n",
    "    'num_tasks': 100, \n",
    "    'num_data_types': 100,\n",
    "    'num_MECs': 5,\n",
    "    'num_IoTs': 50,\n",
    "    'set_size': 3,\n",
    "    'comp_unit':0.5,\n",
    "    'comm_unit':0.5,\n",
    "    'number_of_seleted_features_PCA':50\n",
    "}\n",
    "\n",
    "\n",
    "#math\n",
    "PI = 3.14159\n",
    "\n",
    "#system\n",
    "cellRadius = 500 #meters\n",
    "PowerofService = 24 #dBm\n",
    "powerBS = 40 #dBm\n",
    "AWGNoise = pow(10,-17.4) # dBm/Hz Noise power spectral density, ThermalNoise\n",
    "\n",
    "#configure setting\n",
    "minSinr = -9.478\n",
    "maxDataRate = 1500\n",
    "\n",
    "#MCS to data rate (kbps)\n",
    "QPSK_1 = 19.90\n",
    "QPSK_2 = 30.48\n",
    "QPSK_3 = 49.02\n",
    "QPSK_4 = 78.22\n",
    "QPSK_5 = 114.03\n",
    "QPSK_6 = 152.89\n",
    "QAM16_7 = 192.00\n",
    "QAM16_8 = 248.89\n",
    "QAM16_9 = 312.89\n",
    "QAM16_10 = 355.05\n",
    "QAM16_11 = 432.00\n",
    "QAM16_12 = 507.43\n",
    "QAM16_13 = 588.19\n",
    "QAM16_14 = 667.43\n",
    "QAM16_15 = 722.29\n",
    "\n",
    "'''\n",
    "QPSK_1 = 0.019809563054687576\n",
    "QPSK_2 = 0.0304762508533655\n",
    "QPSK_3 = 0.04901597012249618\n",
    "QPSK_4 = 0.07822237719030478\n",
    "QPSK_5 = 0.11403197194300924\n",
    "QPSK_6 = 0.15288919178105023\n",
    "QAM16_7 = 0.19200038037620265\n",
    "QAM16_8 = 0.24888938196915159\n",
    "QAM16_9 = 0.3128895087612191\n",
    "QAM16_10 = 0.3550483224417081\n",
    "QAM16_11 = 0.432000855846456\n",
    "QAM16_12 = 0.5074295767085355\n",
    "QAM16_13 = 0.5881916414699542\n",
    "QAM16_14 = 0.6674298936887044\n",
    "QAM16_15 = 0.7222871452247623\n",
    "'''"
   ]
  },
  {
   "cell_type": "code",
   "execution_count": null,
   "metadata": {},
   "outputs": [],
   "source": []
  }
 ],
 "metadata": {
  "kernelspec": {
   "display_name": "Python 3 (ipykernel)",
   "language": "python",
   "name": "python3"
  },
  "language_info": {
   "codemirror_mode": {
    "name": "ipython",
    "version": 3
   },
   "file_extension": ".py",
   "mimetype": "text/x-python",
   "name": "python",
   "nbconvert_exporter": "python",
   "pygments_lexer": "ipython3",
   "version": "3.9.13"
  }
 },
 "nbformat": 4,
 "nbformat_minor": 2
}
